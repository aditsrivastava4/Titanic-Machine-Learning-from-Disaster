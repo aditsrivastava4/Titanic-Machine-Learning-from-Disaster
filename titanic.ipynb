{
 "cells": [
  {
   "cell_type": "code",
   "execution_count": 40,
   "metadata": {
    "scrolled": true
   },
   "outputs": [
    {
     "name": "stdout",
     "output_type": "stream",
     "text": [
      "[0 0 1 1 1 1 1 0 1 0 0 0 1 0 1 1 0 1 1 0 0 0 1 0 1 0 1 1 1 0 0 0 1 0 0 0 0\n",
      " 0 0 0 0 1 0 1 1 0 0 0 1 1 1 0 1 1 0 0 0 0 1 1 0 1 0 1 0 1 1 0 0 1 1 0 0 0\n",
      " 1 0 0 1 0 1 1 0 0 0 0 0 1 0 1 1 1 0 1 0 0 0 1 0 1 0 1 0 0 0 1 0 0 0 0 0 0\n",
      " 0 1 1 1 0 0 1 1 1 1 0 1 0 0 0 0 1 0 0 0 0 0 1 0 0 0 0 0 0 0 0 0 0 0 0 0 0\n",
      " 1 0 1 0 0 1 0 0 1 1 0 1 1 1 1 0 0 1 1 0 1 0 0 0 0 0 0 1 1 0 1 1 0 0 1 0 1\n",
      " 0 1 0 0 0 0 0 0 1 1 0 1 0 0 0 1 0 0 1 0 0 1 0 1 0 0 0 0 1 1 0 1 0 1 0 1 0\n",
      " 1 1 1 0 0 1 0 0 0 1 0 0 1 0 0 1 1 1 1 1 0 0 1 0 1 0 1 0 1 0 1 0 0 0 0 1 1\n",
      " 0 0 0 1 1 0 0 0 0 0 0 0 0 1 1 0 1 0 0 0 0 0 0 1 0 1 0 0 0 0 1 0 0 0 0 0 0\n",
      " 0 0 0 0 0 0 0 0 1 1 1 0 1 0 0 1 0 1 1 1 0 0 0 0 0 0 0 1 1 0 1 0 0 0 1 0 0\n",
      " 0 0 0 1 1 0 1 0 0 0 1 0 1 0 0 0 1 1 0 0 0 1 0 1 0 0 0 0 1 1 1 1 0 0 0 1 1\n",
      " 0 1 0 0 1 1 0 0 0 0 0 0 0 0 0 1 0 0 0 0 1 1 1 0 0 1 0 1 0 0 1 0 1 0 0 0 0\n",
      " 0 1 1 1 1 0 0 1 0 0 0]\n",
      "('acc = ', 0.82775119617224879)\n",
      "('Precision score = ', 0.75641025641025639)\n",
      "('Recall score = ', 0.77631578947368418)\n"
     ]
    }
   ],
   "source": [
    "import pandas as pd\n",
    "import numpy as np\n",
    "from sklearn import tree\n",
    "\n",
    "df_train = pd.read_csv('train.csv')\n",
    "df_test = pd.read_csv('test.csv')\n",
    "df_test_lable = pd.read_csv('test_lable.csv')\n",
    "\n",
    "\n",
    "X = df_train[['Pclass', 'Age', 'Sex',  'Fare']]\n",
    "y = df_train[['Survived']]\n",
    "X_train = np.array(X)#train features\n",
    "y_train = np.array(y)#train lables\n",
    "\n",
    "X = df_test[['Pclass', 'Age', 'Sex',  'Fare']]\n",
    "X_test = np.array(X)#test features\n",
    "\n",
    "y = df_test_lable[['Survived']]\n",
    "y_test = np.array(y)#test lables\n",
    "\n",
    "for x in X_train:\n",
    "    if(x[2]=='male'):\n",
    "        x[2] = 1\n",
    "    elif(x[2]=='female'):\n",
    "        x[2] = 0\n",
    "    if(str(x[1])=='nan'):\n",
    "        x[1] = np.random.randint(1,60)\n",
    "\n",
    "for x in X_test:\n",
    "    if(x[2]=='male'):\n",
    "        x[2] = 1\n",
    "    elif(x[2]=='female'):\n",
    "        x[2] = 0\n",
    "    if(str(x[1])=='nan'):\n",
    "        x[1] = np.random.randint(1,60)\n",
    "    if(str(x[3])=='nan'):\n",
    "        x[3] = np.random.randint(5,100)\n",
    "\n",
    "\n",
    "clf = tree.DecisionTreeClassifier(criterion='entropy')#Classifier\n",
    "\n",
    "clf.fit(X_train,y_train)\n",
    "\n",
    "pred = clf.predict(X_test)\n",
    "print(pred)\n",
    "print(\"acc = \",clf.score(X_test,y_test))\n",
    "\n",
    "\n",
    "from sklearn import metrics\n",
    "print(\"Precision score = \",metrics.precision_score(y_test,pred))\n",
    "print(\"Recall score = \",metrics.recall_score(y_test,pred))\n"
   ]
  },
  {
   "cell_type": "code",
   "execution_count": 42,
   "metadata": {},
   "outputs": [],
   "source": [
    "Mdata = []\n",
    "id = np.arange(892,1310)\n",
    "y = 0\n",
    "for x in pred:\n",
    "    data = {'PassengerId':id[y] , 'Survived': x}\n",
    "    Mdata.append(data)\n",
    "    y = y+1\n",
    "\n",
    "f = pd.DataFrame(Mdata)\n",
    "f.to_csv('Prediction.csv', index=False,sep=',')#saving the prediction"
   ]
  },
  {
   "cell_type": "code",
   "execution_count": null,
   "metadata": {
    "collapsed": true
   },
   "outputs": [],
   "source": []
  }
 ],
 "metadata": {
  "kernelspec": {
   "display_name": "Python 2",
   "language": "python",
   "name": "python2"
  },
  "language_info": {
   "codemirror_mode": {
    "name": "ipython",
    "version": 2
   },
   "file_extension": ".py",
   "mimetype": "text/x-python",
   "name": "python",
   "nbconvert_exporter": "python",
   "pygments_lexer": "ipython2",
   "version": "2.7.12"
  }
 },
 "nbformat": 4,
 "nbformat_minor": 2
}
